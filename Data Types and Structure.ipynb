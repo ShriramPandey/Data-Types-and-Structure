{
  "cells": [
    {
      "cell_type": "markdown",
      "source": [],
      "metadata": {
        "id": "XxV3P2egHS4r"
      }
    },
    {
      "cell_type": "markdown",
      "source": [
        "# Data Types and Structures Questions"
      ],
      "metadata": {
        "id": "fBub6Mj-HTyN"
      }
    },
    {
      "cell_type": "markdown",
      "source": [
        "1.   What are data structures, and why are they important?\n",
        "\n",
        "\n",
        "       -Data structure is a method of organising and storing data in a computer to enable efficient access, processing, and modification. They are crucial because they provide a framework for algorithms, making software faster and more understandable by reducing complexity and improving how data is managed.\n",
        "      An example is using a list (a linear data structure) to store a to-do list, allowing for easy adding, removing, and ordering of tasks, whereas an array might be used to store a fixed-size collection of numbers efficiently.\n",
        "\n"
      ],
      "metadata": {
        "id": "wSwSPJw2BxmB"
      }
    },
    {
      "cell_type": "markdown",
      "source": [
        "2.  Explain the difference between mutable and immutable data types with       examples\n",
        "    - Mutable Data Types:-\n",
        "\n",
        "      Mutable data types are those whose values can be modified in place after they have been initialized. This means you can change, add, or remove elements or alter the contents of the object without creating a new object in memory.\n",
        "        - **example:-\n",
        "            my_list = [1, 2, 3]\n",
        "            my_list.append(4)  \n",
        "            print(my_list)**     # Output: [1, 2, 3, 4]\n",
        "\n",
        "     - Immutable Data Types:\n",
        "\n",
        "       Immutable data types are those whose values cannot be changed after they are created. Any operation that appears to modify an immutable object actually results in the creation of a new object with the desired changes, while the original object remains unchanged in memory.\n",
        "        - **Example:-\n",
        "            my_string = \"hello\"\n",
        "            new_string = my_string + \" world\"  \n",
        "            print(my_string)                 \n",
        "            print(new_string)** # Output: hello world"
      ],
      "metadata": {
        "id": "dxM5z3fzEXXv"
      }
    },
    {
      "cell_type": "markdown",
      "source": [
        "3. What are the main differences between lists and tuples in Python?\n",
        "\n",
        "\n",
        "    - Tuples:-\n",
        "      *   Tuples are immutable objects item\n",
        "      *   Tuples have fixed length,\n",
        "      *   Tuples use less memory and are faster to access than Lists,\n",
        "      *   Tuples syntax uses round bracket or parentheis.\n",
        "\n",
        "    - Lists:-\n",
        "      *  Lists are mutable object,\n",
        "      *  Lists have a dynamic length,\n",
        "      *  Lists use less memory and take more time to access than tuples,\n",
        "      *  Lists syntax uses square bracket"
      ],
      "metadata": {
        "id": "R01THnklEed5"
      }
    },
    {
      "cell_type": "markdown",
      "source": [
        "4. Describe how dictionaries store data.\n",
        "      - A dictionary is a built-in data structure that stores data in the form of key–value pairs.\n",
        "     -Keys are unique and immutable (e.g., strings, numbers, tuples).\n",
        "    - Values can be of any data type and can be repeated.\n",
        "    - Unordered (before Python 3.7): Dictionaries did not guarantee any order of items.\n",
        "    - Ordered (from Python 3.7+): Dictionaries preserve the insertion order. That means if you iterate through a dictionary, items are returned in the order they were added.\n",
        "    - **Example:-**\n",
        "         * ***student = {\"Name\":Shriram Pandey\",\"Age\":24, \"Course\": \"Data   Analytics\"}***\n",
        "         * ***print(\"Name:\", student[\"name\"])***\n",
        "         * ***print(\"Age:\", student[\"age\"])***\n",
        "         * ***print(\"Course:\", student[\"course\"])**\n",
        "\n"
      ],
      "metadata": {
        "id": "_rpT699wF30h"
      }
    },
    {
      "cell_type": "markdown",
      "source": [
        "5.  Why might you use a set instead of a list in Python?\n",
        "\n",
        "    - You would use a set instead of a list in Python when you need to store unique items and perform fast membership checks. Unlike lists, sets automatically remove duplicates and use hashing, which makes checking if an element exists much faster. Sets also support handy mathematical operations like union, intersection, and difference, which lists don’t provide directly. However, since sets are unordered and don’t support indexing, you’d use a list if you need to maintain order or allow duplicates.\n",
        "\n",
        "    1. Use a list when:-\n",
        "      * You need ordered data.\n",
        "      * Duplicates are needed.\n",
        "      * Indexing is required.\n",
        "\n",
        "    2. use a Set when:-\n",
        "      * You need unique elements only.\n",
        "      * Fast membership checking is important.\n",
        "      * You need to perform set operations."
      ],
      "metadata": {
        "id": "V7gGQ_xeL_DA"
      }
    },
    {
      "cell_type": "markdown",
      "source": [
        "6. What is a string in Python, and how is it different from a list?\n",
        "\n",
        "    - A string in Python is a sequence of characters enclosed in single quotes ('), double quotes (\"), or triple quotes (''' or \"\"\"). Strings are immutable, meaning once created, their contents cannot be changed—you can only create new strings.\n",
        "\n",
        "    - A list, on the other hand, is a collection of elements (which can be numbers, strings, or even other lists) enclosed in square brackets ([]). Lists are mutable, so you can modify, add, or remove elements after creation."
      ],
      "metadata": {
        "id": "tX1m5wSXI0xq"
      }
    },
    {
      "cell_type": "markdown",
      "source": [
        "7.  How do tuples ensure data integrity in Python?\n",
        "\n",
        "    - Tuples in Python ensure data integrity because they are immutable, meaning once a tuple is created, its elements cannot be modified, added, or removed. This immutability guarantees that the data stored in a tuple remains constant and secure throughout the program, preventing accidental changes.\n",
        "\n",
        "    - **Example:-**\n",
        "      * **Num = (10, 20)**\n",
        "      * **print(Num)  # (10, 20)** #modification cause an error"
      ],
      "metadata": {
        "id": "uLeeTn9qOYBP"
      }
    },
    {
      "cell_type": "markdown",
      "source": [
        "8. What is a hash table, and how does it relate to dictionaries in Python?\n",
        "\n",
        "    - A hash table is a data structure that stores data in key–value pairs and uses a hash function to map each key to a specific location in memory. This allows for very fast operations like lookup, insertion, and deletion, usually in O(1) time on average.\n",
        "\n",
        "        * Python computes the hash value of the key,\n",
        "        * That hash decides where the key–value pair is stored in memory,\n",
        "        * If two keys hash to the same location, Python handles it internally by placing them in another available slot."
      ],
      "metadata": {
        "id": "zzf8t0uUPeXg"
      }
    },
    {
      "cell_type": "markdown",
      "source": [
        "9.  Can lists contain different data types in Python?\n",
        "    - Yes, a list can contain different data types. Unlike arrays in many programming languages, Python lists are very flexible and can hold integers, floats, strings, booleans, or even other lists/objects in the same collection.\n",
        "    - **example:-**\n",
        "        * **my_list = [10, \"Hello\", 3.14, True, [1, 2, 3]]**\n",
        "        * **print(my_list)**\n",
        "        * **Output will be:-**\n",
        "        * **[10, 'Hello', 3.14, True, [1, 2, 3]]**\n"
      ],
      "metadata": {
        "id": "TMC72hgKQarp"
      }
    },
    {
      "cell_type": "markdown",
      "source": [
        "10. Explain why strings are immutable in Python.\n",
        "\n",
        "    - Strings in Python are immutable, which means you cannot change them once they are created. If you try to modify a string, Python actually makes a new string instead of changing the old one.\n",
        "    - This is done to keep strings safe, reliable, and efficient — for example, so they can be used as dictionary keys and shared in memory without risk of being changed accidentally.\n",
        "    \n",
        "      - **Example:-**\n",
        "        * **s = \"Hello\"**\n",
        "        * **s = \"hello\"** #python make another string,old one will remainn same"
      ],
      "metadata": {
        "id": "4lciwHx8VFvh"
      }
    },
    {
      "cell_type": "markdown",
      "source": [
        "11. What advantages do dictionaries offer over lists for certain tasks?\n",
        "\n",
        "    - Dictionaries are better than lists when you need to find things quickly or when your data has a label → value relationship. In a list, you search by position, but in a dictionary, you search by key.\n",
        "\n",
        "      - **Example:-List**\n",
        "\n",
        "        * **students_list = [[\"Alice\", 90], [\"Bob\", 85], [\"Charlie\", 92]]**\n",
        "        * **for student in students_list:**\n",
        "        * **if student[0] == \"Bob\":**\n",
        "        * **print(\"Bob's marks (list):\", student[1])**\n",
        "\n",
        "      - **Example:-dictionary**\n",
        "      \n",
        "        * **students_dict = {\"Alice\": 90, \"Bob\": 85, \"Charlie\": 92}**\n",
        "        * **print(\"Bob's marks (dictionary):\", students_dict[\"Bob\"])**\n"
      ],
      "metadata": {
        "id": "gGa_52-aY9KB"
      }
    },
    {
      "cell_type": "markdown",
      "source": [
        "12. Describe a scenario where using a tuple would be preferable over a list?\n",
        "\n",
        "    - You should use a tuple instead of a list when you have data that shouldn’t change.\n",
        "    - For example, storing the address of a city (40, -74) is better in a tuple because those values are fixed. Tuples keep the data safe from being modified by mistake, while lists can be changed.\n",
        "\n",
        "    - **example:-**\n",
        "          * **location = (40.7128, -74.0060)**  # New York City coordinates\n",
        "\n",
        "          * **print(\"Latitude:\", location[0])**\n",
        "          * **print(\"Longitude:\", location[1])**"
      ],
      "metadata": {
        "id": "P-SlRCGKaj1x"
      }
    },
    {
      "cell_type": "markdown",
      "source": [
        "13. How do sets handle duplicate values in Python?\n",
        "\n",
        "    - In Python, sets automatically remove duplicate values. When you add elements to a set, only unique items are stored—any duplicates are ignored. This makes sets useful for keeping collections of distinct items.\n",
        "\n",
        "    - **Example:-**\n",
        "          * **numbers = {1, 2, 2, 3, 3, 3, 4}**\n",
        "\n",
        "          * **print(numbers)**  # Output: {1, 2, 3, 4}\n"
      ],
      "metadata": {
        "id": "203T5aGNcd7y"
      }
    },
    {
      "cell_type": "markdown",
      "source": [
        "14.  How does the “in” keyword work differently for lists and dictionaries?\n",
        "\n",
        "  - The in keyword works differently for lists and dictionaries\n",
        "      * List: Checks if a value exists in the list. It looks through each item one by one, so it can be slower if the list is big.\n",
        "      * Dictionary: Checks if a key exists in the dictionary. It’s very fast because dictionaries use hashing.\n",
        "      \n",
        "      - **Example:-**\n",
        "          * **my_list = [10, 20, 30]**\n",
        "          * **print(20 in my_list)**\n",
        "          *  **my_dict = {\"a\": 1, \"b\": 2}**\n",
        "          * **print(\"b\" in my_dict)**"
      ],
      "metadata": {
        "id": "BKfFJJp3gdkB"
      }
    },
    {
      "cell_type": "markdown",
      "source": [
        "15. Can you modify the elements of a tuple? Explain why or why not?\n",
        "\n",
        "    - You cannot modify a tuple in Python because tuples are immutable, meaning their elements are fixed once the tuple is created. This makes tuples useful for storing data that should not change, like constants, and allows them to be used as dictionary keys or in sets, which require immutability.\n",
        "\n",
        "    - **Example:-**\n",
        "        * **s = (10,20,30)**\n",
        "        * **s(0)=15 #it will cause an error**\n",
        "        * **print(s)**      #output:-(10,20,30)"
      ],
      "metadata": {
        "id": "coCD3qMKhopT"
      }
    },
    {
      "cell_type": "markdown",
      "source": [
        "16. What is a nested dictionary, and give an example of its use case?\n",
        "\n",
        "    - A nested dictionary in Python is a dictionary that contains another dictionary (or dictionaries) as its values. This allows you to store more complex, hierarchical data in a structured way.\n",
        "\n",
        "    - **Example:-**\n",
        "        * tudents ={\"1001\": {\"name\": \"Alice\", \"age\": 20, \"major\": \"CS\"},\n",
        "                  \"1002\": {\"name\": \"Bob\", \"age\": 22, \"major\": \"Math\"},\n",
        "                 \"1003\": {\"name\": \"Charlie\", \"age\": 21, \"major\": \"Physics\"}}\n",
        "       * print(students[\"1002\"][\"name\"])  # Output:- Bob\n",
        "      * print(students[\"1003\"][\"major\"]) # Output:- Physics\n"
      ],
      "metadata": {
        "id": "dkL3O6RsizXM"
      }
    },
    {
      "cell_type": "markdown",
      "source": [
        "17. Describe the time complexity of accessing elements in a dictionary.\n",
        "\n",
        "    - Accessing an element in a Python dictionary is very fast because it uses a hash table. This means you can get a value by its key in constant time (O(1)), no matter how big the dictionary is.\n",
        "\n",
        "    - Example:-\n",
        "        * my_dict = {\"a\": 1, \"b\": 2, \"c\": 3}\n",
        "        * print(my_dict[\"b\"])  # Output: 2\n"
      ],
      "metadata": {
        "id": "F-sct9ycj0oZ"
      }
    },
    {
      "cell_type": "markdown",
      "source": [
        "18.  In what situations are lists preferred over dictionaries?\n",
        "\n",
        "      - Lists are preferred over dictionaries when you need to store an ordered collection of items or when the position of elements matters. They are ideal for situations where:\n",
        "        * Order matters :- You want to maintain the sequence of elements.\n",
        "        * Duplicates are allowed :- Lists can store repeated values.\n",
        "        * Index-based access :- You want to access items by their position.\n",
        "\n",
        "    - **Example:-**\n",
        "            * fruits = [\"apple\", \"banana\", \"cherry\", \"banana\"]\n",
        "            * print(fruits[1])  # Output:- Access by index -> banana\n"
      ],
      "metadata": {
        "id": "bXgdv0Mwk5jN"
      }
    },
    {
      "cell_type": "markdown",
      "source": [
        "19. Why are dictionaries considered unordered, and how does that affect data retrieval\n",
        "\n",
        "    - Dictionaries in Python are considered unordered (historically) because the items are stored by key in a hash table, not by the order in which they were added. This means that in versions before Python 3.7, iterating over a dictionary could return items in any order\n",
        "\n",
        "    - **example:-**\n",
        "        * student = {\"name\": \"Alice\", \"age\": 21, \"major\": \"CS\"}\n",
        "        * print(student[\"age\"])  # 21\n",
        "        * for key, value in student.items(): # Iteration order\n",
        "        *  print(key, value)\n"
      ],
      "metadata": {
        "id": "jGFx6Bv1mH7P"
      }
    },
    {
      "cell_type": "markdown",
      "source": [
        "20. Explain the difference between a list and a dictionary in terms of data retrieval.\n",
        "\n",
        "    - **List:-**\n",
        "\n",
        "          * Data is retrieved by position (index).\n",
        "          * To find a specific value, Python may need to search through the list.\n",
        "          * **Example:-**\n",
        "                 * fruits = [\"apple\", \"banana\", \"cherry\"]\n",
        "                * print(fruits[1])  # Output: banana\n",
        "\n",
        "       - **Dictionary:-**      \n",
        "\n",
        "          * Data is retrieved by key.\n",
        "          * Lookup is very fast (O(1)) because dictionaries use a hash table.\n",
        "          * **example:-**\n",
        "                * student = {\"name\": \"Alice\", \"age\": 21}\n",
        "                * print(student[\"age\"])  # Output: 21\n",
        "   \n",
        "\n"
      ],
      "metadata": {
        "id": "QZU9qChoneFr"
      }
    },
    {
      "cell_type": "markdown",
      "source": [
        "# Practical Questions"
      ],
      "metadata": {
        "id": "gtaOAGQ8G82H"
      }
    },
    {
      "cell_type": "code",
      "source": [
        "1. #Write a code to create a string with your name and print it.\n",
        "name = \"Shriram Pandey\"\n",
        "print(name)"
      ],
      "metadata": {
        "colab": {
          "base_uri": "https://localhost:8080/"
        },
        "id": "neyOmw73HK3Y",
        "outputId": "399665b6-f35b-4cd7-b60b-7cd7e76ea5cb"
      },
      "execution_count": 1,
      "outputs": [
        {
          "output_type": "stream",
          "name": "stdout",
          "text": [
            "Shriram Pandey\n"
          ]
        }
      ]
    },
    {
      "cell_type": "code",
      "source": [
        "2. #Write a code to find the length of the string \"Hello World\".\n",
        "string = \"Hello World\"\n",
        "length = (len(string))\n",
        "print(\"length of thr string is\",length)"
      ],
      "metadata": {
        "colab": {
          "base_uri": "https://localhost:8080/"
        },
        "id": "u2VNTKBNIhQb",
        "outputId": "cdabd2f6-a5c0-4485-94a9-86acf6c25098"
      },
      "execution_count": 4,
      "outputs": [
        {
          "output_type": "stream",
          "name": "stdout",
          "text": [
            "length of thr string is 11\n"
          ]
        }
      ]
    },
    {
      "cell_type": "code",
      "source": [
        "3. #Write a code to slice the first 3 characters from the string \"Python Programming\".\n",
        "string = \"Data Analyst\"\n",
        "sliced_string = string[:3]\n",
        "print(sliced_string)"
      ],
      "metadata": {
        "colab": {
          "base_uri": "https://localhost:8080/"
        },
        "id": "75CIADhbIri1",
        "outputId": "31bb022f-4242-4176-9313-3b79af78ee29"
      },
      "execution_count": 5,
      "outputs": [
        {
          "output_type": "stream",
          "name": "stdout",
          "text": [
            "Dat\n"
          ]
        }
      ]
    },
    {
      "cell_type": "code",
      "source": [
        "4. #Write a code to convert the string \"hello\" to uppercase.\n",
        "string = \"hello\"\n",
        "uppercase_string = string.upper()\n",
        "print(uppercase_string)"
      ],
      "metadata": {
        "colab": {
          "base_uri": "https://localhost:8080/"
        },
        "id": "1GRPsJuxJb2H",
        "outputId": "c5bee56e-36f0-4c9f-92e5-34dca601c496"
      },
      "execution_count": 6,
      "outputs": [
        {
          "output_type": "stream",
          "name": "stdout",
          "text": [
            "HELLO\n"
          ]
        }
      ]
    },
    {
      "cell_type": "code",
      "source": [
        "5. #Write a code to replace the word \"apple\" with \"orange\" in the string \"I like apple\".\n",
        "string = \"I like apple\"\n",
        "new_string = string.replace(\"apple\", \"orange\")\n",
        "print(new_string)"
      ],
      "metadata": {
        "colab": {
          "base_uri": "https://localhost:8080/"
        },
        "id": "0-OIlJcdJoB3",
        "outputId": "1689b0fc-6197-46a8-83bc-fab569db64b1"
      },
      "execution_count": 7,
      "outputs": [
        {
          "output_type": "stream",
          "name": "stdout",
          "text": [
            "I like orange\n"
          ]
        }
      ]
    },
    {
      "cell_type": "code",
      "source": [
        "6. #Write a code to create a list with numbers 1 to 5 and print it.\n",
        "list = [1,2,3,4,5]\n",
        "print(list)"
      ],
      "metadata": {
        "colab": {
          "base_uri": "https://localhost:8080/"
        },
        "id": "CZu-aDGIJ_yE",
        "outputId": "02c4f9c8-4e25-4486-b6b6-584fbad2559e"
      },
      "execution_count": 8,
      "outputs": [
        {
          "output_type": "stream",
          "name": "stdout",
          "text": [
            "[1, 2, 3, 4, 5]\n"
          ]
        }
      ]
    },
    {
      "cell_type": "code",
      "source": [
        "7. #Write a code to append the number 10 to the list [1, 2, 3, 4].\n",
        "num = [1, 2, 3, 4]\n",
        "num.append(5)\n",
        "print(num)"
      ],
      "metadata": {
        "colab": {
          "base_uri": "https://localhost:8080/"
        },
        "id": "zEz1Y_j_KPij",
        "outputId": "d0489c01-6358-4be4-c556-9394515c85e8"
      },
      "execution_count": 12,
      "outputs": [
        {
          "output_type": "stream",
          "name": "stdout",
          "text": [
            "[1, 2, 3, 4, 5]\n"
          ]
        }
      ]
    },
    {
      "cell_type": "code",
      "source": [
        "8. #Write a code to remove the number 3 from the list [1, 2, 3, 4, 5].\n",
        "num = [1, 2, 3, 4]\n",
        "num.remove(4)\n",
        "print(num)"
      ],
      "metadata": {
        "colab": {
          "base_uri": "https://localhost:8080/"
        },
        "id": "tb6FFJgfL_Nz",
        "outputId": "411bafd7-9312-4e04-a5f1-c0337fe87371"
      },
      "execution_count": 13,
      "outputs": [
        {
          "output_type": "stream",
          "name": "stdout",
          "text": [
            "[1, 2, 3]\n"
          ]
        }
      ]
    },
    {
      "cell_type": "code",
      "source": [
        "9. #Write a code to access the second element in the list ['a', 'b', 'c', 'd'].\n",
        "letters = ['a', 'b', 'c', 'd']\n",
        "letters[1]"
      ],
      "metadata": {
        "colab": {
          "base_uri": "https://localhost:8080/",
          "height": 36
        },
        "id": "c5xGCdXQMZCb",
        "outputId": "fb4592ba-0e20-4e64-802e-5f75b9b3e5f4"
      },
      "execution_count": 15,
      "outputs": [
        {
          "output_type": "execute_result",
          "data": {
            "text/plain": [
              "'b'"
            ],
            "application/vnd.google.colaboratory.intrinsic+json": {
              "type": "string"
            }
          },
          "metadata": {},
          "execution_count": 15
        }
      ]
    },
    {
      "cell_type": "code",
      "source": [
        "10. #Write a code to reverse the list [10, 20, 30, 40, 50].\n",
        "num = [10,20,30,40,50]\n",
        "num.reverse()\n",
        "print(num)"
      ],
      "metadata": {
        "colab": {
          "base_uri": "https://localhost:8080/"
        },
        "id": "WZV9HVh7Mt2a",
        "outputId": "033edcd5-27f0-4b99-ddd7-ed68b205bf07"
      },
      "execution_count": 16,
      "outputs": [
        {
          "output_type": "stream",
          "name": "stdout",
          "text": [
            "[50, 40, 30, 20, 10]\n"
          ]
        }
      ]
    },
    {
      "cell_type": "code",
      "source": [
        "11. #Write a code to create a tuple with the elements 100, 200, 300 and print it.\n",
        "\n",
        "tuple = (100,200,300)   #its showing error in google Colab only not in VS Code and Jupiter Notebook.\n",
        "print(tuple)"
      ],
      "metadata": {
        "colab": {
          "base_uri": "https://localhost:8080/",
          "height": 176
        },
        "id": "FKue4aVoNL3f",
        "outputId": "f3a57a9c-b2d8-4718-8268-0169118ac91c"
      },
      "execution_count": 27,
      "outputs": [
        {
          "output_type": "error",
          "ename": "TypeError",
          "evalue": "'tuple' object is not callable",
          "traceback": [
            "\u001b[0;31m---------------------------------------------------------------------------\u001b[0m",
            "\u001b[0;31mTypeError\u001b[0m                                 Traceback (most recent call last)",
            "\u001b[0;32m/tmp/ipython-input-2867470081.py\u001b[0m in \u001b[0;36m<cell line: 0>\u001b[0;34m()\u001b[0m\n\u001b[1;32m      2\u001b[0m \u001b[0;34m\u001b[0m\u001b[0m\n\u001b[1;32m      3\u001b[0m \u001b[0mtuple\u001b[0m \u001b[0;34m=\u001b[0m \u001b[0;34m(\u001b[0m\u001b[0;36m100\u001b[0m\u001b[0;34m,\u001b[0m\u001b[0;36m200\u001b[0m\u001b[0;34m,\u001b[0m\u001b[0;36m300\u001b[0m\u001b[0;34m)\u001b[0m\u001b[0;34m\u001b[0m\u001b[0;34m\u001b[0m\u001b[0m\n\u001b[0;32m----> 4\u001b[0;31m \u001b[0mprint\u001b[0m\u001b[0;34m(\u001b[0m\u001b[0mtuple\u001b[0m\u001b[0;34m)\u001b[0m\u001b[0;34m\u001b[0m\u001b[0;34m\u001b[0m\u001b[0m\n\u001b[0m",
            "\u001b[0;31mTypeError\u001b[0m: 'tuple' object is not callable"
          ]
        }
      ]
    },
    {
      "cell_type": "code",
      "source": [
        "12. #Write a code to access the second-to-last element of the tuple ('red', 'green', 'blue', 'yellow').\n",
        "colors = ('red', 'green', 'blue', 'yellow')\n",
        "colors[2] #here we can access by [2] and [-2] as well.\n",
        "\n"
      ],
      "metadata": {
        "colab": {
          "base_uri": "https://localhost:8080/",
          "height": 36
        },
        "id": "IuqUU8JlN3RY",
        "outputId": "179f3f7a-2153-4ede-f126-8306e825b4c2"
      },
      "execution_count": 30,
      "outputs": [
        {
          "output_type": "execute_result",
          "data": {
            "text/plain": [
              "'blue'"
            ],
            "application/vnd.google.colaboratory.intrinsic+json": {
              "type": "string"
            }
          },
          "metadata": {},
          "execution_count": 30
        }
      ]
    },
    {
      "cell_type": "code",
      "source": [
        "13. #Write a code to find the minimum number in the tuple (10, 20, 5, 15).\n",
        "num = (10, 20, 5, 15)\n",
        "minimum = min(num)\n",
        "print(\"The minimum number is:\", minimum)\n",
        "        ##its showing error in google Colab only not in VS Code and Jupiter Notebook"
      ],
      "metadata": {
        "colab": {
          "base_uri": "https://localhost:8080/",
          "height": 176
        },
        "id": "vz1KQRqMPm1N",
        "outputId": "aaff7edd-6804-4aba-b0c1-9d7ab5907a0e"
      },
      "execution_count": 34,
      "outputs": [
        {
          "output_type": "error",
          "ename": "TypeError",
          "evalue": "'tuple' object is not callable",
          "traceback": [
            "\u001b[0;31m---------------------------------------------------------------------------\u001b[0m",
            "\u001b[0;31mTypeError\u001b[0m                                 Traceback (most recent call last)",
            "\u001b[0;32m/tmp/ipython-input-2999027508.py\u001b[0m in \u001b[0;36m<cell line: 0>\u001b[0;34m()\u001b[0m\n\u001b[1;32m      2\u001b[0m \u001b[0mnum\u001b[0m \u001b[0;34m=\u001b[0m \u001b[0;34m(\u001b[0m\u001b[0;36m10\u001b[0m\u001b[0;34m,\u001b[0m \u001b[0;36m20\u001b[0m\u001b[0;34m,\u001b[0m \u001b[0;36m5\u001b[0m\u001b[0;34m,\u001b[0m \u001b[0;36m15\u001b[0m\u001b[0;34m)\u001b[0m\u001b[0;34m\u001b[0m\u001b[0;34m\u001b[0m\u001b[0m\n\u001b[1;32m      3\u001b[0m \u001b[0mminimum\u001b[0m \u001b[0;34m=\u001b[0m \u001b[0mmin\u001b[0m\u001b[0;34m(\u001b[0m\u001b[0mnum\u001b[0m\u001b[0;34m)\u001b[0m\u001b[0;34m\u001b[0m\u001b[0;34m\u001b[0m\u001b[0m\n\u001b[0;32m----> 4\u001b[0;31m \u001b[0mprint\u001b[0m\u001b[0;34m(\u001b[0m\u001b[0;34m\"The minimum number is:\"\u001b[0m\u001b[0;34m,\u001b[0m \u001b[0mminimum\u001b[0m\u001b[0;34m)\u001b[0m\u001b[0;34m\u001b[0m\u001b[0;34m\u001b[0m\u001b[0m\n\u001b[0m",
            "\u001b[0;31mTypeError\u001b[0m: 'tuple' object is not callable"
          ]
        }
      ]
    },
    {
      "cell_type": "code",
      "source": [
        "14. #Write a code to find the index of the element \"cat\" in the tuple ('dog', 'cat', 'rabbit')\n",
        "Animals = ('dog', 'cat', 'rabbit')\n",
        "Animals.index(\"cat\")\n"
      ],
      "metadata": {
        "colab": {
          "base_uri": "https://localhost:8080/"
        },
        "id": "prNKhiCXQdNu",
        "outputId": "a21c95a6-1072-450e-e679-a0228230035a"
      },
      "execution_count": 38,
      "outputs": [
        {
          "output_type": "execute_result",
          "data": {
            "text/plain": [
              "1"
            ]
          },
          "metadata": {},
          "execution_count": 38
        }
      ]
    },
    {
      "cell_type": "code",
      "source": [
        "15. #Write a code to create a tuple containing three different fruits and check if \"kiwi\" is in it.\n",
        "fruits = (\"apple\", \"banana\", \"mango\")\n",
        "if \"kiwi\" in fruits:\n",
        "    print(\"Yes, 'kiwi' is in the tuple.\")\n",
        "else:\n",
        "    print(\"No, 'kiwi' is not in the tuple.\")\n",
        "\n",
        "    ##its showing error in google Colab only not in VS Code and Jupiter Notebook."
      ],
      "metadata": {
        "colab": {
          "base_uri": "https://localhost:8080/",
          "height": 176
        },
        "id": "QQnewYlPRFJf",
        "outputId": "f5218f37-d345-4b7c-9d7b-53ad564456a3"
      },
      "execution_count": 43,
      "outputs": [
        {
          "output_type": "error",
          "ename": "TypeError",
          "evalue": "'tuple' object is not callable",
          "traceback": [
            "\u001b[0;31m---------------------------------------------------------------------------\u001b[0m",
            "\u001b[0;31mTypeError\u001b[0m                                 Traceback (most recent call last)",
            "\u001b[0;32m/tmp/ipython-input-2805043199.py\u001b[0m in \u001b[0;36m<cell line: 0>\u001b[0;34m()\u001b[0m\n\u001b[1;32m      4\u001b[0m     \u001b[0mprint\u001b[0m\u001b[0;34m(\u001b[0m\u001b[0;34m\"Yes, 'kiwi' is in the tuple.\"\u001b[0m\u001b[0;34m)\u001b[0m\u001b[0;34m\u001b[0m\u001b[0;34m\u001b[0m\u001b[0m\n\u001b[1;32m      5\u001b[0m \u001b[0;32melse\u001b[0m\u001b[0;34m:\u001b[0m\u001b[0;34m\u001b[0m\u001b[0;34m\u001b[0m\u001b[0m\n\u001b[0;32m----> 6\u001b[0;31m     \u001b[0mprint\u001b[0m\u001b[0;34m(\u001b[0m\u001b[0;34m\"No, 'kiwi' is not in the tuple.\"\u001b[0m\u001b[0;34m)\u001b[0m\u001b[0;34m\u001b[0m\u001b[0;34m\u001b[0m\u001b[0m\n\u001b[0m",
            "\u001b[0;31mTypeError\u001b[0m: 'tuple' object is not callable"
          ]
        }
      ]
    },
    {
      "cell_type": "code",
      "source": [
        "16. #Write a code to create a set with the elements 'a', 'b', 'c' and print it.\n",
        "my_set = {\"a\", \"b\", \"c\"}\n",
        "print(my_set)\n",
        "\n",
        "    ##its showing error in google Colab only not in VS Code and Jupiter Notebook"
      ],
      "metadata": {
        "colab": {
          "base_uri": "https://localhost:8080/",
          "height": 176
        },
        "id": "cGzSW2D4SUSd",
        "outputId": "00ca7fcb-dee5-497b-d3b6-6b5b6df81576"
      },
      "execution_count": 51,
      "outputs": [
        {
          "output_type": "error",
          "ename": "TypeError",
          "evalue": "'tuple' object is not callable",
          "traceback": [
            "\u001b[0;31m---------------------------------------------------------------------------\u001b[0m",
            "\u001b[0;31mTypeError\u001b[0m                                 Traceback (most recent call last)",
            "\u001b[0;32m/tmp/ipython-input-1504738977.py\u001b[0m in \u001b[0;36m<cell line: 0>\u001b[0;34m()\u001b[0m\n\u001b[1;32m      1\u001b[0m \u001b[0;36m16.\u001b[0m \u001b[0;31m#Write a code to create a set with the elements 'a', 'b', 'c' and print it.\u001b[0m\u001b[0;34m\u001b[0m\u001b[0;34m\u001b[0m\u001b[0m\n\u001b[1;32m      2\u001b[0m \u001b[0mmy_set\u001b[0m \u001b[0;34m=\u001b[0m \u001b[0;34m{\u001b[0m\u001b[0;34m\"a\"\u001b[0m\u001b[0;34m,\u001b[0m \u001b[0;34m\"b\"\u001b[0m\u001b[0;34m,\u001b[0m \u001b[0;34m\"c\"\u001b[0m\u001b[0;34m}\u001b[0m\u001b[0;34m\u001b[0m\u001b[0;34m\u001b[0m\u001b[0m\n\u001b[0;32m----> 3\u001b[0;31m \u001b[0mprint\u001b[0m\u001b[0;34m(\u001b[0m\u001b[0mmy_set\u001b[0m\u001b[0;34m)\u001b[0m\u001b[0;34m\u001b[0m\u001b[0;34m\u001b[0m\u001b[0m\n\u001b[0m",
            "\u001b[0;31mTypeError\u001b[0m: 'tuple' object is not callable"
          ]
        }
      ]
    },
    {
      "cell_type": "code",
      "source": [
        "17. #Write a code to clear all elements from the set {1, 2, 3, 4, 5}.\n",
        "my_set = {1, 2, 3, 4, 5}\n",
        "my_set.clear()\n",
        "print(my_set)\n",
        "\n",
        "      ##its showing error in google Colab only not in VS Code and Jupiter Notebook"
      ],
      "metadata": {
        "colab": {
          "base_uri": "https://localhost:8080/",
          "height": 176
        },
        "id": "QHQLkPyTWlso",
        "outputId": "7afdba6a-8ab8-4fb7-ef8c-41e709389a0b"
      },
      "execution_count": 52,
      "outputs": [
        {
          "output_type": "error",
          "ename": "TypeError",
          "evalue": "'tuple' object is not callable",
          "traceback": [
            "\u001b[0;31m---------------------------------------------------------------------------\u001b[0m",
            "\u001b[0;31mTypeError\u001b[0m                                 Traceback (most recent call last)",
            "\u001b[0;32m/tmp/ipython-input-2263285723.py\u001b[0m in \u001b[0;36m<cell line: 0>\u001b[0;34m()\u001b[0m\n\u001b[1;32m      2\u001b[0m \u001b[0mmy_set\u001b[0m \u001b[0;34m=\u001b[0m \u001b[0;34m{\u001b[0m\u001b[0;36m1\u001b[0m\u001b[0;34m,\u001b[0m \u001b[0;36m2\u001b[0m\u001b[0;34m,\u001b[0m \u001b[0;36m3\u001b[0m\u001b[0;34m,\u001b[0m \u001b[0;36m4\u001b[0m\u001b[0;34m,\u001b[0m \u001b[0;36m5\u001b[0m\u001b[0;34m}\u001b[0m\u001b[0;34m\u001b[0m\u001b[0;34m\u001b[0m\u001b[0m\n\u001b[1;32m      3\u001b[0m \u001b[0mmy_set\u001b[0m\u001b[0;34m.\u001b[0m\u001b[0mclear\u001b[0m\u001b[0;34m(\u001b[0m\u001b[0;34m)\u001b[0m\u001b[0;34m\u001b[0m\u001b[0;34m\u001b[0m\u001b[0m\n\u001b[0;32m----> 4\u001b[0;31m \u001b[0mprint\u001b[0m\u001b[0;34m(\u001b[0m\u001b[0mmy_set\u001b[0m\u001b[0;34m)\u001b[0m\u001b[0;34m\u001b[0m\u001b[0;34m\u001b[0m\u001b[0m\n\u001b[0m",
            "\u001b[0;31mTypeError\u001b[0m: 'tuple' object is not callable"
          ]
        }
      ]
    },
    {
      "cell_type": "code",
      "source": [
        "18. #Write a code to remove the element 4 from the set {1, 2, 3, 4}.\n",
        "my_set = {1, 2, 3, 4}\n",
        "my_set.remove(4)\n",
        "print(my_set)\n",
        "\n",
        "      ##its showing error in google Colab only not in VS Code and Jupiter Notebook\n"
      ],
      "metadata": {
        "colab": {
          "base_uri": "https://localhost:8080/",
          "height": 211
        },
        "id": "5ndDN7J6W5ie",
        "outputId": "6970fb75-3bde-40a6-dada-143f4bf75cd6"
      },
      "execution_count": 53,
      "outputs": [
        {
          "output_type": "error",
          "ename": "TypeError",
          "evalue": "'tuple' object is not callable",
          "traceback": [
            "\u001b[0;31m---------------------------------------------------------------------------\u001b[0m",
            "\u001b[0;31mTypeError\u001b[0m                                 Traceback (most recent call last)",
            "\u001b[0;32m/tmp/ipython-input-652524615.py\u001b[0m in \u001b[0;36m<cell line: 0>\u001b[0;34m()\u001b[0m\n\u001b[1;32m      2\u001b[0m \u001b[0mmy_set\u001b[0m \u001b[0;34m=\u001b[0m \u001b[0;34m{\u001b[0m\u001b[0;36m1\u001b[0m\u001b[0;34m,\u001b[0m \u001b[0;36m2\u001b[0m\u001b[0;34m,\u001b[0m \u001b[0;36m3\u001b[0m\u001b[0;34m,\u001b[0m \u001b[0;36m4\u001b[0m\u001b[0;34m}\u001b[0m\u001b[0;34m\u001b[0m\u001b[0;34m\u001b[0m\u001b[0m\n\u001b[1;32m      3\u001b[0m \u001b[0mmy_set\u001b[0m\u001b[0;34m.\u001b[0m\u001b[0mremove\u001b[0m\u001b[0;34m(\u001b[0m\u001b[0;36m4\u001b[0m\u001b[0;34m)\u001b[0m\u001b[0;34m\u001b[0m\u001b[0;34m\u001b[0m\u001b[0m\n\u001b[0;32m----> 4\u001b[0;31m \u001b[0mprint\u001b[0m\u001b[0;34m(\u001b[0m\u001b[0mmy_set\u001b[0m\u001b[0;34m)\u001b[0m\u001b[0;34m\u001b[0m\u001b[0;34m\u001b[0m\u001b[0m\n\u001b[0m\u001b[1;32m      5\u001b[0m \u001b[0;34m\u001b[0m\u001b[0m\n\u001b[1;32m      6\u001b[0m       \u001b[0;31m##its showing error in google Colab only not in VS Code and Jupiter Notebook\u001b[0m\u001b[0;34m\u001b[0m\u001b[0;34m\u001b[0m\u001b[0m\n",
            "\u001b[0;31mTypeError\u001b[0m: 'tuple' object is not callable"
          ]
        }
      ]
    },
    {
      "cell_type": "code",
      "source": [
        "19. #Write a code to find the union of two sets {1, 2, 3} and {3, 4, 5}.\n",
        "set1 = {1, 2, 3}\n",
        "set2 = {3, 4, 5}\n",
        "union_set = set1.union(set2)\n",
        "print(union_set)\n",
        "\n",
        "      ##its showing error in google Colab only not in VS Code and Jupiter Notebook"
      ],
      "metadata": {
        "colab": {
          "base_uri": "https://localhost:8080/",
          "height": 211
        },
        "id": "Ax-rG1p4XLLZ",
        "outputId": "1325bce6-a9aa-42e9-cb2e-ccc4e2861352"
      },
      "execution_count": 54,
      "outputs": [
        {
          "output_type": "error",
          "ename": "TypeError",
          "evalue": "'tuple' object is not callable",
          "traceback": [
            "\u001b[0;31m---------------------------------------------------------------------------\u001b[0m",
            "\u001b[0;31mTypeError\u001b[0m                                 Traceback (most recent call last)",
            "\u001b[0;32m/tmp/ipython-input-368733173.py\u001b[0m in \u001b[0;36m<cell line: 0>\u001b[0;34m()\u001b[0m\n\u001b[1;32m      3\u001b[0m \u001b[0mset2\u001b[0m \u001b[0;34m=\u001b[0m \u001b[0;34m{\u001b[0m\u001b[0;36m3\u001b[0m\u001b[0;34m,\u001b[0m \u001b[0;36m4\u001b[0m\u001b[0;34m,\u001b[0m \u001b[0;36m5\u001b[0m\u001b[0;34m}\u001b[0m\u001b[0;34m\u001b[0m\u001b[0;34m\u001b[0m\u001b[0m\n\u001b[1;32m      4\u001b[0m \u001b[0munion_set\u001b[0m \u001b[0;34m=\u001b[0m \u001b[0mset1\u001b[0m\u001b[0;34m.\u001b[0m\u001b[0munion\u001b[0m\u001b[0;34m(\u001b[0m\u001b[0mset2\u001b[0m\u001b[0;34m)\u001b[0m\u001b[0;34m\u001b[0m\u001b[0;34m\u001b[0m\u001b[0m\n\u001b[0;32m----> 5\u001b[0;31m \u001b[0mprint\u001b[0m\u001b[0;34m(\u001b[0m\u001b[0munion_set\u001b[0m\u001b[0;34m)\u001b[0m\u001b[0;34m\u001b[0m\u001b[0;34m\u001b[0m\u001b[0m\n\u001b[0m\u001b[1;32m      6\u001b[0m \u001b[0;34m\u001b[0m\u001b[0m\n\u001b[1;32m      7\u001b[0m       \u001b[0;31m##its showing error in google Colab only not in VS Code and Jupiter Notebook\u001b[0m\u001b[0;34m\u001b[0m\u001b[0;34m\u001b[0m\u001b[0m\n",
            "\u001b[0;31mTypeError\u001b[0m: 'tuple' object is not callable"
          ]
        }
      ]
    },
    {
      "cell_type": "code",
      "source": [
        "20. #Write a code to find the intersection of two sets {1, 2, 3} and {2, 3, 4}\n",
        "set1 = {1, 2, 3}\n",
        "set2 = {2, 3, 4}\n",
        "intersection_set = set1.intersection(set2)\n",
        "print(\"Intersection of the sets:\", intersection_set)\n",
        "\n",
        "    ##its showing error in google Colab only not in VS Code and Jupiter Notebook"
      ],
      "metadata": {
        "colab": {
          "base_uri": "https://localhost:8080/",
          "height": 176
        },
        "id": "BxNK48uEXdsd",
        "outputId": "87016b14-a4a0-44f0-a029-53eba54a99cd"
      },
      "execution_count": 55,
      "outputs": [
        {
          "output_type": "error",
          "ename": "TypeError",
          "evalue": "'tuple' object is not callable",
          "traceback": [
            "\u001b[0;31m---------------------------------------------------------------------------\u001b[0m",
            "\u001b[0;31mTypeError\u001b[0m                                 Traceback (most recent call last)",
            "\u001b[0;32m/tmp/ipython-input-2756793519.py\u001b[0m in \u001b[0;36m<cell line: 0>\u001b[0;34m()\u001b[0m\n\u001b[1;32m      3\u001b[0m \u001b[0mset2\u001b[0m \u001b[0;34m=\u001b[0m \u001b[0;34m{\u001b[0m\u001b[0;36m2\u001b[0m\u001b[0;34m,\u001b[0m \u001b[0;36m3\u001b[0m\u001b[0;34m,\u001b[0m \u001b[0;36m4\u001b[0m\u001b[0;34m}\u001b[0m\u001b[0;34m\u001b[0m\u001b[0;34m\u001b[0m\u001b[0m\n\u001b[1;32m      4\u001b[0m \u001b[0mintersection_set\u001b[0m \u001b[0;34m=\u001b[0m \u001b[0mset1\u001b[0m\u001b[0;34m.\u001b[0m\u001b[0mintersection\u001b[0m\u001b[0;34m(\u001b[0m\u001b[0mset2\u001b[0m\u001b[0;34m)\u001b[0m\u001b[0;34m\u001b[0m\u001b[0;34m\u001b[0m\u001b[0m\n\u001b[0;32m----> 5\u001b[0;31m \u001b[0mprint\u001b[0m\u001b[0;34m(\u001b[0m\u001b[0;34m\"Intersection of the sets:\"\u001b[0m\u001b[0;34m,\u001b[0m \u001b[0mintersection_set\u001b[0m\u001b[0;34m)\u001b[0m\u001b[0;34m\u001b[0m\u001b[0;34m\u001b[0m\u001b[0m\n\u001b[0m",
            "\u001b[0;31mTypeError\u001b[0m: 'tuple' object is not callable"
          ]
        }
      ]
    },
    {
      "cell_type": "code",
      "source": [
        "21. #Write a code to create a dictionary with the keys \"name\", \"age\", and \"city\", and print it.\n",
        "person = {\"name\": \"Shriram Pandey\",\"age\": 24,\"city\": \"raipur\"}\n",
        "print(person)\n",
        "\n",
        "       ##its showing error in google Colab only not in VS Code and Jupiter Notebook"
      ],
      "metadata": {
        "colab": {
          "base_uri": "https://localhost:8080/",
          "height": 176
        },
        "id": "VH9Cn418X6D7",
        "outputId": "a586bf29-9432-4bdc-92cf-fdb278046d4e"
      },
      "execution_count": 56,
      "outputs": [
        {
          "output_type": "error",
          "ename": "TypeError",
          "evalue": "'tuple' object is not callable",
          "traceback": [
            "\u001b[0;31m---------------------------------------------------------------------------\u001b[0m",
            "\u001b[0;31mTypeError\u001b[0m                                 Traceback (most recent call last)",
            "\u001b[0;32m/tmp/ipython-input-4188633021.py\u001b[0m in \u001b[0;36m<cell line: 0>\u001b[0;34m()\u001b[0m\n\u001b[1;32m      1\u001b[0m \u001b[0;36m21.\u001b[0m \u001b[0;31m#Write a code to create a dictionary with the keys \"name\", \"age\", and \"city\", and print it.\u001b[0m\u001b[0;34m\u001b[0m\u001b[0;34m\u001b[0m\u001b[0m\n\u001b[1;32m      2\u001b[0m \u001b[0mperson\u001b[0m \u001b[0;34m=\u001b[0m \u001b[0;34m{\u001b[0m\u001b[0;34m\"name\"\u001b[0m\u001b[0;34m:\u001b[0m \u001b[0;34m\"Shriram Pandey\"\u001b[0m\u001b[0;34m,\u001b[0m\u001b[0;34m\"age\"\u001b[0m\u001b[0;34m:\u001b[0m \u001b[0;36m24\u001b[0m\u001b[0;34m,\u001b[0m\u001b[0;34m\"city\"\u001b[0m\u001b[0;34m:\u001b[0m \u001b[0;34m\"raipur\"\u001b[0m\u001b[0;34m}\u001b[0m\u001b[0;34m\u001b[0m\u001b[0;34m\u001b[0m\u001b[0m\n\u001b[0;32m----> 3\u001b[0;31m \u001b[0mprint\u001b[0m\u001b[0;34m(\u001b[0m\u001b[0mperson\u001b[0m\u001b[0;34m)\u001b[0m\u001b[0;34m\u001b[0m\u001b[0;34m\u001b[0m\u001b[0m\n\u001b[0m",
            "\u001b[0;31mTypeError\u001b[0m: 'tuple' object is not callable"
          ]
        }
      ]
    },
    {
      "cell_type": "code",
      "source": [
        "22. # Write a code to add a new key-value pair \"country\": \"USA\" to the dictionary {'name': 'John', 'age': 25}\n",
        "person = {'name': 'John', 'age': 25}\n",
        "person[\"country\"] = \"USA\"\n",
        "print(person)\n",
        "\n",
        "       ##its showing error in google Colab only not in VS Code and Jupiter Notebook"
      ],
      "metadata": {
        "colab": {
          "base_uri": "https://localhost:8080/",
          "height": 211
        },
        "id": "FoOFex-bYhVy",
        "outputId": "54d18ed8-c0ea-49f0-ee1b-c6d77e071e4b"
      },
      "execution_count": 57,
      "outputs": [
        {
          "output_type": "error",
          "ename": "TypeError",
          "evalue": "'tuple' object is not callable",
          "traceback": [
            "\u001b[0;31m---------------------------------------------------------------------------\u001b[0m",
            "\u001b[0;31mTypeError\u001b[0m                                 Traceback (most recent call last)",
            "\u001b[0;32m/tmp/ipython-input-3568496491.py\u001b[0m in \u001b[0;36m<cell line: 0>\u001b[0;34m()\u001b[0m\n\u001b[1;32m      2\u001b[0m \u001b[0mperson\u001b[0m \u001b[0;34m=\u001b[0m \u001b[0;34m{\u001b[0m\u001b[0;34m'name'\u001b[0m\u001b[0;34m:\u001b[0m \u001b[0;34m'John'\u001b[0m\u001b[0;34m,\u001b[0m \u001b[0;34m'age'\u001b[0m\u001b[0;34m:\u001b[0m \u001b[0;36m25\u001b[0m\u001b[0;34m}\u001b[0m\u001b[0;34m\u001b[0m\u001b[0;34m\u001b[0m\u001b[0m\n\u001b[1;32m      3\u001b[0m \u001b[0mperson\u001b[0m\u001b[0;34m[\u001b[0m\u001b[0;34m\"country\"\u001b[0m\u001b[0;34m]\u001b[0m \u001b[0;34m=\u001b[0m \u001b[0;34m\"USA\"\u001b[0m\u001b[0;34m\u001b[0m\u001b[0;34m\u001b[0m\u001b[0m\n\u001b[0;32m----> 4\u001b[0;31m \u001b[0mprint\u001b[0m\u001b[0;34m(\u001b[0m\u001b[0mperson\u001b[0m\u001b[0;34m)\u001b[0m\u001b[0;34m\u001b[0m\u001b[0;34m\u001b[0m\u001b[0m\n\u001b[0m\u001b[1;32m      5\u001b[0m \u001b[0;34m\u001b[0m\u001b[0m\n\u001b[1;32m      6\u001b[0m        \u001b[0;31m##its showing error in google Colab only not in VS Code and Jupiter Notebook\u001b[0m\u001b[0;34m\u001b[0m\u001b[0;34m\u001b[0m\u001b[0m\n",
            "\u001b[0;31mTypeError\u001b[0m: 'tuple' object is not callable"
          ]
        }
      ]
    },
    {
      "cell_type": "code",
      "source": [
        "23. #Write a code to access the value associated with the key \"name\" in the dictionary {'name': 'Alice', 'age': 30}.\n",
        "person = {'name': 'Alice', 'age': 30}\n",
        "print(person[\"name\"])\n",
        "\n",
        "       ##its showing error in google Colab only not in VS Code and Jupiter Notebook\n"
      ],
      "metadata": {
        "colab": {
          "base_uri": "https://localhost:8080/",
          "height": 211
        },
        "id": "wOxv4BAOYsc_",
        "outputId": "6ad94df9-104b-4abd-ce8b-49e493986c3e"
      },
      "execution_count": 58,
      "outputs": [
        {
          "output_type": "error",
          "ename": "TypeError",
          "evalue": "'tuple' object is not callable",
          "traceback": [
            "\u001b[0;31m---------------------------------------------------------------------------\u001b[0m",
            "\u001b[0;31mTypeError\u001b[0m                                 Traceback (most recent call last)",
            "\u001b[0;32m/tmp/ipython-input-3634252055.py\u001b[0m in \u001b[0;36m<cell line: 0>\u001b[0;34m()\u001b[0m\n\u001b[1;32m      1\u001b[0m \u001b[0;36m23.\u001b[0m \u001b[0;31m#Write a code to access the value associated with the key \"name\" in the dictionary {'name': 'Alice', 'age': 30}.\u001b[0m\u001b[0;34m\u001b[0m\u001b[0;34m\u001b[0m\u001b[0m\n\u001b[1;32m      2\u001b[0m \u001b[0mperson\u001b[0m \u001b[0;34m=\u001b[0m \u001b[0;34m{\u001b[0m\u001b[0;34m'name'\u001b[0m\u001b[0;34m:\u001b[0m \u001b[0;34m'Alice'\u001b[0m\u001b[0;34m,\u001b[0m \u001b[0;34m'age'\u001b[0m\u001b[0;34m:\u001b[0m \u001b[0;36m30\u001b[0m\u001b[0;34m}\u001b[0m\u001b[0;34m\u001b[0m\u001b[0;34m\u001b[0m\u001b[0m\n\u001b[0;32m----> 3\u001b[0;31m \u001b[0mprint\u001b[0m\u001b[0;34m(\u001b[0m\u001b[0mperson\u001b[0m\u001b[0;34m[\u001b[0m\u001b[0;34m\"name\"\u001b[0m\u001b[0;34m]\u001b[0m\u001b[0;34m)\u001b[0m\u001b[0;34m\u001b[0m\u001b[0;34m\u001b[0m\u001b[0m\n\u001b[0m\u001b[1;32m      4\u001b[0m \u001b[0;34m\u001b[0m\u001b[0m\n\u001b[1;32m      5\u001b[0m        \u001b[0;31m##its showing error in google Colab only not in VS Code and Jupiter Notebook\u001b[0m\u001b[0;34m\u001b[0m\u001b[0;34m\u001b[0m\u001b[0m\n",
            "\u001b[0;31mTypeError\u001b[0m: 'tuple' object is not callable"
          ]
        }
      ]
    },
    {
      "cell_type": "code",
      "source": [
        "24. # Write a code to remove the key \"age\" from the dictionary {'name': 'Bob', 'age': 22, 'city': 'New York'}\n",
        "person = {'name': 'Bob', 'age': 22, 'city': 'New York'}\n",
        "person.pop('age')\n",
        "print(person)\n",
        "\n",
        "     ##its showing error in google Colab only not in VS Code and Jupiter Notebook."
      ],
      "metadata": {
        "colab": {
          "base_uri": "https://localhost:8080/",
          "height": 176
        },
        "id": "BVnHOYMrY8YU",
        "outputId": "48a0aa61-2844-4a22-e4b0-0ef9c35e321b"
      },
      "execution_count": 59,
      "outputs": [
        {
          "output_type": "error",
          "ename": "TypeError",
          "evalue": "'tuple' object is not callable",
          "traceback": [
            "\u001b[0;31m---------------------------------------------------------------------------\u001b[0m",
            "\u001b[0;31mTypeError\u001b[0m                                 Traceback (most recent call last)",
            "\u001b[0;32m/tmp/ipython-input-3436060708.py\u001b[0m in \u001b[0;36m<cell line: 0>\u001b[0;34m()\u001b[0m\n\u001b[1;32m      2\u001b[0m \u001b[0mperson\u001b[0m \u001b[0;34m=\u001b[0m \u001b[0;34m{\u001b[0m\u001b[0;34m'name'\u001b[0m\u001b[0;34m:\u001b[0m \u001b[0;34m'Bob'\u001b[0m\u001b[0;34m,\u001b[0m \u001b[0;34m'age'\u001b[0m\u001b[0;34m:\u001b[0m \u001b[0;36m22\u001b[0m\u001b[0;34m,\u001b[0m \u001b[0;34m'city'\u001b[0m\u001b[0;34m:\u001b[0m \u001b[0;34m'New York'\u001b[0m\u001b[0;34m}\u001b[0m\u001b[0;34m\u001b[0m\u001b[0;34m\u001b[0m\u001b[0m\n\u001b[1;32m      3\u001b[0m \u001b[0mperson\u001b[0m\u001b[0;34m.\u001b[0m\u001b[0mpop\u001b[0m\u001b[0;34m(\u001b[0m\u001b[0;34m'age'\u001b[0m\u001b[0;34m)\u001b[0m\u001b[0;34m\u001b[0m\u001b[0;34m\u001b[0m\u001b[0m\n\u001b[0;32m----> 4\u001b[0;31m \u001b[0mprint\u001b[0m\u001b[0;34m(\u001b[0m\u001b[0mperson\u001b[0m\u001b[0;34m)\u001b[0m\u001b[0;34m\u001b[0m\u001b[0;34m\u001b[0m\u001b[0m\n\u001b[0m",
            "\u001b[0;31mTypeError\u001b[0m: 'tuple' object is not callable"
          ]
        }
      ]
    },
    {
      "cell_type": "code",
      "source": [
        "25. #Write a code to check if the key \"city\" exists in the dictionary {'name': 'Alice', 'city': 'Paris'}.\n",
        "person = {'name': 'Alice', 'city': 'Paris'}\n",
        "if \"city\" in person:\n",
        "    print(\"The key 'city' exists in the dictionary.\")\n",
        "else:\n",
        "    print(\"The key 'city' does not exist in the dictionary.\")\n",
        "\n",
        "    ##its showing error in google Colab only not in VS Code and Jupiter Notebook."
      ],
      "metadata": {
        "colab": {
          "base_uri": "https://localhost:8080/",
          "height": 211
        },
        "id": "CNGv-kYCZPNj",
        "outputId": "02b2eee1-2cdd-497c-ac95-047633445601"
      },
      "execution_count": 60,
      "outputs": [
        {
          "output_type": "error",
          "ename": "TypeError",
          "evalue": "'tuple' object is not callable",
          "traceback": [
            "\u001b[0;31m---------------------------------------------------------------------------\u001b[0m",
            "\u001b[0;31mTypeError\u001b[0m                                 Traceback (most recent call last)",
            "\u001b[0;32m/tmp/ipython-input-2963025133.py\u001b[0m in \u001b[0;36m<cell line: 0>\u001b[0;34m()\u001b[0m\n\u001b[1;32m      2\u001b[0m \u001b[0mperson\u001b[0m \u001b[0;34m=\u001b[0m \u001b[0;34m{\u001b[0m\u001b[0;34m'name'\u001b[0m\u001b[0;34m:\u001b[0m \u001b[0;34m'Alice'\u001b[0m\u001b[0;34m,\u001b[0m \u001b[0;34m'city'\u001b[0m\u001b[0;34m:\u001b[0m \u001b[0;34m'Paris'\u001b[0m\u001b[0;34m}\u001b[0m\u001b[0;34m\u001b[0m\u001b[0;34m\u001b[0m\u001b[0m\n\u001b[1;32m      3\u001b[0m \u001b[0;32mif\u001b[0m \u001b[0;34m\"city\"\u001b[0m \u001b[0;32min\u001b[0m \u001b[0mperson\u001b[0m\u001b[0;34m:\u001b[0m\u001b[0;34m\u001b[0m\u001b[0;34m\u001b[0m\u001b[0m\n\u001b[0;32m----> 4\u001b[0;31m     \u001b[0mprint\u001b[0m\u001b[0;34m(\u001b[0m\u001b[0;34m\"The key 'city' exists in the dictionary.\"\u001b[0m\u001b[0;34m)\u001b[0m\u001b[0;34m\u001b[0m\u001b[0;34m\u001b[0m\u001b[0m\n\u001b[0m\u001b[1;32m      5\u001b[0m \u001b[0;32melse\u001b[0m\u001b[0;34m:\u001b[0m\u001b[0;34m\u001b[0m\u001b[0;34m\u001b[0m\u001b[0m\n\u001b[1;32m      6\u001b[0m     \u001b[0mprint\u001b[0m\u001b[0;34m(\u001b[0m\u001b[0;34m\"The key 'city' does not exist in the dictionary.\"\u001b[0m\u001b[0;34m)\u001b[0m\u001b[0;34m\u001b[0m\u001b[0;34m\u001b[0m\u001b[0m\n",
            "\u001b[0;31mTypeError\u001b[0m: 'tuple' object is not callable"
          ]
        }
      ]
    },
    {
      "cell_type": "code",
      "source": [
        "26. #Write a code to create a list, a tuple, and a dictionary, and print them all.\n",
        "my_list = [1, 2, 3]\n",
        "my_tuple = ('a', 'b', 'c')\n",
        "my_dict = {'name': 'Alice', 'age': 25}\n",
        "print(\"List:\", my_list)\n",
        "print(\"Tuple:\", my_tuple)\n",
        "print(\"Dictionary:\", my_dict)\n"
      ],
      "metadata": {
        "colab": {
          "base_uri": "https://localhost:8080/"
        },
        "id": "drlNOnK3ZetI",
        "outputId": "230565d9-4f47-4908-e515-3709a4f01f81"
      },
      "execution_count": 8,
      "outputs": [
        {
          "output_type": "stream",
          "name": "stdout",
          "text": [
            "List: [1, 2, 3]\n",
            "Tuple: ('a', 'b', 'c')\n",
            "Dictionary: {'name': 'Alice', 'age': 25}\n"
          ]
        }
      ]
    },
    {
      "cell_type": "code",
      "source": [
        "27.#Write a code to create a list of 5 random numbers between 1 and 100, sort it in ascending order, and print the result.(replaced)\n",
        "import random\n",
        "random_numbers = [random.randint(1, 100) for _ in range(5)]\n",
        "random_numbers.sort()\n",
        "print(\"Sorted random numbers:\", random_numbers)"
      ],
      "metadata": {
        "colab": {
          "base_uri": "https://localhost:8080/"
        },
        "id": "n6VuO8mpoDpf",
        "outputId": "84095132-a121-4a76-9244-1c3cf4dd951b"
      },
      "execution_count": 10,
      "outputs": [
        {
          "output_type": "stream",
          "name": "stdout",
          "text": [
            "Sorted random numbers: [3, 9, 27, 47, 83]\n"
          ]
        }
      ]
    },
    {
      "cell_type": "code",
      "source": [
        "28. #Write a code to create a list with strings and print the element at the third index.\n",
        "fruits = [\"apple\", \"banana\", \"cherry\", \"date\", \"elderberry\"]\n",
        "third_index_element = fruits[3]\n",
        "print(\"Element at the third index is:\", third_index_element)\n"
      ],
      "metadata": {
        "colab": {
          "base_uri": "https://localhost:8080/"
        },
        "id": "tkVDUW1poI1f",
        "outputId": "a50aba61-0ecd-44f1-c3dc-c0a7bec4108f"
      },
      "execution_count": 12,
      "outputs": [
        {
          "output_type": "stream",
          "name": "stdout",
          "text": [
            "Element at the third index is: date\n"
          ]
        }
      ]
    },
    {
      "cell_type": "code",
      "source": [
        "29. #Write a code to combine two dictionaries into one and print the result.\n",
        "dict1 = {'a': 1, 'b': 2}\n",
        "dict2 = {'c': 3, 'd': 4}\n",
        "combined_dict = {**dict1, **dict2}\n",
        "print(\"Combined dictionary:\", combined_dict)\n",
        "\n"
      ],
      "metadata": {
        "colab": {
          "base_uri": "https://localhost:8080/"
        },
        "id": "RftANz0AqfQG",
        "outputId": "69d1c05f-e6f5-4e98-b58a-77982348a0c0"
      },
      "execution_count": 15,
      "outputs": [
        {
          "output_type": "stream",
          "name": "stdout",
          "text": [
            "Combined dictionary: {'a': 1, 'b': 2, 'c': 3, 'd': 4}\n"
          ]
        }
      ]
    },
    {
      "cell_type": "code",
      "source": [
        "30. #Write a code to convert a list of strings into a set.\n",
        "string_list = [\"apple\", \"banana\", \"cherry\", \"banana\"]\n",
        "string_set = set(string_list)\n",
        "print(\"Set of strings:\", string_set)\n",
        "\n"
      ],
      "metadata": {
        "colab": {
          "base_uri": "https://localhost:8080/"
        },
        "id": "01k6dThKq5WH",
        "outputId": "b9250b45-5298-4210-fa7c-e1b88d53eda0"
      },
      "execution_count": 16,
      "outputs": [
        {
          "output_type": "stream",
          "name": "stdout",
          "text": [
            "Set of strings: {'apple', 'cherry', 'banana'}\n"
          ]
        }
      ]
    }
  ],
  "metadata": {
    "colab": {
      "provenance": [],
      "toc_visible": true
    },
    "kernelspec": {
      "display_name": "Python 3",
      "name": "python3"
    }
  },
  "nbformat": 4,
  "nbformat_minor": 0
}